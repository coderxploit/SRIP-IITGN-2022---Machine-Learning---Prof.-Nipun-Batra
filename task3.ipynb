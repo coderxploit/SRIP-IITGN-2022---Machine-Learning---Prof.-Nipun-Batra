{
  "nbformat": 4,
  "nbformat_minor": 0,
  "metadata": {
    "colab": {
      "name": "task3.ipynb",
      "provenance": [],
      "collapsed_sections": []
    },
    "kernelspec": {
      "name": "python3",
      "display_name": "Python 3"
    },
    "language_info": {
      "name": "python"
    }
  },
  "cells": [
    {
      "cell_type": "markdown",
      "source": [
        "**Introduction**\n",
        "\n",
        "> I'm going to break down this task in 4 major steps through this notebook \n",
        "\n",
        "which goes as follows:\n",
        "\n",
        "*   Building model: shallow and deep network with non-linear acivations, fully-connected and convoluionsal layer,\n",
        "*   Defining cost fuction,\n",
        "*   List itemComputing derivatives of model parameters\n",
        "*   Understanding the optimizer pipeline and how to update he model parameter.\n",
        "\n",
        "\n",
        "\n",
        "\n",
        "\n",
        "\n"
      ],
      "metadata": {
        "id": "VYUKDkGYmkkw"
      }
    },
    {
      "cell_type": "markdown",
      "source": [
        "**Downloading MNIST Dataset and Preprocessing**\n",
        "\n",
        "> First code block downloads the MNIST dataset from web, and preprocess it, the data are separeated into a training set, and a test set, and the labels are encoded in [one-hot](https://www.geeksforgeeks.org/ml-one-hot-encoding-of-datasets-in-python/) form.\n",
        "\n"
      ],
      "metadata": {
        "id": "lBxlL3ypoKI-"
      }
    },
    {
      "cell_type": "code",
      "execution_count": null,
      "metadata": {
        "id": "QUeKWYLHQ1OP"
      },
      "outputs": [],
      "source": [
        "##Downloading MNIST dataset anf storing it in directory _DATA\n",
        "import array\n",
        "import gzip\n",
        "import os\n",
        "from os import path\n",
        "import struct\n",
        "import urllib.request\n",
        "\n",
        "import numpy as np\n",
        "\n",
        "\n",
        "# path to data directory\n",
        "_DATA = \"/tmp/jax_example_data/\"\n",
        "\n",
        "\n",
        "def _download(url, filename):\n",
        "    \"\"\"Download a url to a file in the JAX data temp directory.\"\"\"\n",
        "    if not path.exists(_DATA):\n",
        "        os.makedirs(_DATA)\n",
        "    out_file = path.join(_DATA, filename)\n",
        "    if not path.isfile(out_file):\n",
        "        urllib.request.urlretrieve(url, out_file)\n",
        "        print(\"downloaded {} to {}\".format(url, _DATA))\n",
        "\n",
        "\n",
        "def _partial_flatten(x):\n",
        "    \"\"\"Flatten all but the first dimension of an ndarray.\"\"\"\n",
        "    return np.reshape(x, (x.shape[0], -1))\n",
        "\n",
        "\n",
        "def _one_hot(x, k, dtype=np.float32):\n",
        "    \"\"\"Create a one-hot encoding of x of size k.\"\"\"\n",
        "    return np.array(x[:, None] == np.arange(k), dtype)\n",
        "\n",
        "\n",
        "def mnist_raw():\n",
        "    \"\"\"Download and parse the raw MNIST dataset.\"\"\"\n",
        "    # CVDF mirror of http://yann.lecun.com/exdb/mnist/\n",
        "    base_url = \"https://storage.googleapis.com/cvdf-datasets/mnist/\"\n",
        "\n",
        "    def parse_labels(filename):\n",
        "        with gzip.open(filename, \"rb\") as fh:\n",
        "            _ = struct.unpack(\">II\", fh.read(8))\n",
        "            return np.array(array.array(\"B\", fh.read()), dtype=np.uint8)\n",
        "\n",
        "    def parse_images(filename):\n",
        "        with gzip.open(filename, \"rb\") as fh:\n",
        "            _, num_data, rows, cols = struct.unpack(\">IIII\", fh.read(16))\n",
        "            return np.array(array.array(\"B\", fh.read()),\n",
        "                          dtype=np.uint8).reshape(num_data, rows, cols)\n",
        "\n",
        "    for filename in [\"train-images-idx3-ubyte.gz\", \"train-labels-idx1-ubyte.gz\",\n",
        "                   \"t10k-images-idx3-ubyte.gz\", \"t10k-labels-idx1-ubyte.gz\"]:\n",
        "        _download(base_url + filename, filename)\n",
        "\n",
        "    train_images = parse_images(path.join(_DATA, \"train-images-idx3-ubyte.gz\"))\n",
        "    train_labels = parse_labels(path.join(_DATA, \"train-labels-idx1-ubyte.gz\"))\n",
        "    test_images = parse_images(path.join(_DATA, \"t10k-images-idx3-ubyte.gz\"))\n",
        "    test_labels = parse_labels(path.join(_DATA, \"t10k-labels-idx1-ubyte.gz\"))\n",
        "\n",
        "    return train_images, train_labels, test_images, test_labels\n",
        "\n",
        "\n",
        "def mnist(permute_train=False):\n",
        "    \"\"\"Download, parse and process MNIST data to unit scale and one-hot labels.\"\"\"\n",
        "    train_images, train_labels, test_images, test_labels = mnist_raw()\n",
        "\n",
        "    train_images = _partial_flatten(train_images) / np.float32(255.)\n",
        "    test_images = _partial_flatten(test_images) / np.float32(255.)\n",
        "    train_labels = _one_hot(train_labels, 10)\n",
        "    test_labels = _one_hot(test_labels, 10)\n",
        "\n",
        "    if permute_train:\n",
        "        perm = np.random.RandomState(0).permutation(train_images.shape[0])\n",
        "        train_images = train_images[perm]\n",
        "        train_labels = train_labels[perm]\n",
        "\n",
        "    return train_images, train_labels, test_images, test_labels"
      ]
    },
    {
      "cell_type": "markdown",
      "source": [
        "**Minibatches**\n",
        "\n",
        "Now that we've written the functions to download and preprocess the MNIST dataset, let's prepare it for training. Since we'll be using some variant of SGD (e.g., ADAM, etc.), we need to feed data into our machine learning model (e.g., a DNN) in random minibatches.\n",
        "\n",
        "The function data_stream creates a python generator which returns one minibatch of the randomized training set at a time, until all training datapoints are exhausted. To do this efficiently, data_stream() defines a python generator. Generators are functions containing loops which yield a result one at a time until the loop is exhausted, rather than return the output.\n",
        "\n",
        "If you're not familiar with generators, explore carefully the code below first. Make sure to explore the effect of the while-loop statement which is currently commented out. What is the purpose of having generators? What are generetors good/useful for? Explore the data_stream() generator below by printing a few small minibatches.\n"
      ],
      "metadata": {
        "id": "GM7Rs560g4pX"
      }
    },
    {
      "cell_type": "code",
      "source": [
        "def my_generator():\n",
        "    #while True:\n",
        "        for j in range(10):\n",
        "            yield j\n",
        "            \n",
        "gen = my_generator()\n",
        "print(gen) # shows a generator object\n",
        "\n",
        "print('\\nfirst loop:\\n')   \n",
        "\n",
        "# call generator\n",
        "for i in range(4):\n",
        "    print(i, next(gen) )\n",
        "    \n",
        "print('\\nsecond loop:\\n')    \n",
        "    \n",
        "for i in range(10):\n",
        "    print(i, next(gen) )"
      ],
      "metadata": {
        "colab": {
          "base_uri": "https://localhost:8080/",
          "height": 495
        },
        "id": "YfZcp5_PTqlc",
        "outputId": "fa2a8bea-457b-46fc-a6b7-aae9824772b7"
      },
      "execution_count": null,
      "outputs": [
        {
          "output_type": "stream",
          "name": "stdout",
          "text": [
            "<generator object my_generator at 0x7fb962d5c9d0>\n",
            "\n",
            "first loop:\n",
            "\n",
            "0 0\n",
            "1 1\n",
            "2 2\n",
            "3 3\n",
            "\n",
            "second loop:\n",
            "\n",
            "0 4\n",
            "1 5\n",
            "2 6\n",
            "3 7\n",
            "4 8\n",
            "5 9\n"
          ]
        },
        {
          "output_type": "error",
          "ename": "StopIteration",
          "evalue": "ignored",
          "traceback": [
            "\u001b[0;31m---------------------------------------------------------------------------\u001b[0m",
            "\u001b[0;31mStopIteration\u001b[0m                             Traceback (most recent call last)",
            "\u001b[0;32m<ipython-input-12-e0008476830e>\u001b[0m in \u001b[0;36m<module>\u001b[0;34m()\u001b[0m\n\u001b[1;32m     16\u001b[0m \u001b[0;34m\u001b[0m\u001b[0m\n\u001b[1;32m     17\u001b[0m \u001b[0;32mfor\u001b[0m \u001b[0mi\u001b[0m \u001b[0;32min\u001b[0m \u001b[0mrange\u001b[0m\u001b[0;34m(\u001b[0m\u001b[0;36m10\u001b[0m\u001b[0;34m)\u001b[0m\u001b[0;34m:\u001b[0m\u001b[0;34m\u001b[0m\u001b[0;34m\u001b[0m\u001b[0m\n\u001b[0;32m---> 18\u001b[0;31m     \u001b[0mprint\u001b[0m\u001b[0;34m(\u001b[0m\u001b[0mi\u001b[0m\u001b[0;34m,\u001b[0m \u001b[0mnext\u001b[0m\u001b[0;34m(\u001b[0m\u001b[0mgen\u001b[0m\u001b[0;34m)\u001b[0m \u001b[0;34m)\u001b[0m\u001b[0;34m\u001b[0m\u001b[0;34m\u001b[0m\u001b[0m\n\u001b[0m",
            "\u001b[0;31mStopIteration\u001b[0m: "
          ]
        }
      ]
    },
    {
      "cell_type": "code",
      "source": [
        "### define minibatches\n",
        "\n",
        "# fix seed\n",
        "seed=0\n",
        "np.random.seed(seed)\n",
        "\n",
        "##### define data variables and the minibatch generator\n",
        "# load MNIST data\n",
        "train_images, train_labels, test_images, test_labels = mnist()\n",
        "\n",
        "print('\\ntrain data: image shape: {}, label shape: {}.'.format(train_images.shape, train_labels.shape ))\n",
        "print('test data : image shape: {}, label shape: {}.\\n'.format(test_images.shape, test_labels.shape ))\n",
        "\n",
        "\n",
        "# size of a single minibatch\n",
        "batch_size=128 \n",
        "# size of the trining set\n",
        "num_train = train_images.shape[0] \n",
        "# define number of complete minibatches (data size need not be muptiple of batch_size)\n",
        "num_complete_batches, leftover = divmod(num_train, batch_size)\n",
        "# total number of minibatches is the smallest integer to fit all minibatches in the dataset\n",
        "num_batches = num_complete_batches + bool(leftover)\n",
        "\n",
        "\n",
        "def data_stream():\n",
        "    \"\"\"\n",
        "    This function defines a generator which produces random batches of data, one at a time.\n",
        "    \n",
        "    \"\"\"\n",
        "    rng = np.random.RandomState(0)\n",
        "    while True:\n",
        "        perm = rng.permutation(num_train) # compute a random permutation\n",
        "        for i in range(num_batches):\n",
        "            batch_idx = perm[i * batch_size:(i + 1) * batch_size]\n",
        "            yield train_images[batch_idx], train_labels[batch_idx]\n",
        "\n",
        "# define the batches generator\n",
        "batches = data_stream()"
      ],
      "metadata": {
        "colab": {
          "base_uri": "https://localhost:8080/"
        },
        "id": "DEnwrPHOTsSr",
        "outputId": "23df6760-d224-46aa-c2ca-d46993b69995"
      },
      "execution_count": null,
      "outputs": [
        {
          "output_type": "stream",
          "name": "stdout",
          "text": [
            "\n",
            "train data: image shape: (60000, 784), label shape: (60000, 10).\n",
            "test data : image shape: (10000, 784), label shape: (10000, 10).\n",
            "\n"
          ]
        }
      ]
    },
    {
      "cell_type": "markdown",
      "source": [
        "**Plot the Data**\n",
        "\n",
        "Now we're going to plot the data, In title of the plot the corresponding label in one-hot form is given. below for each pixel values are squeezed in the interval of [0, 1]."
      ],
      "metadata": {
        "id": "pIcZVus0pwo1"
      }
    },
    {
      "cell_type": "code",
      "source": [
        "import matplotlib\n",
        "from matplotlib import pyplot as plt\n",
        "# static plots\n",
        "%matplotlib inline \n",
        "\n",
        "### show the first data point as an example\n",
        "n=1111 # test data point number\n",
        "\n",
        "plt.imshow(test_images[n].reshape(28,28),cmap='Greys')\n",
        "plt.title('label: {}'.format(test_labels[n]) )\n",
        "\n",
        "plt.show()\n"
      ],
      "metadata": {
        "colab": {
          "base_uri": "https://localhost:8080/",
          "height": 281
        },
        "id": "KGyVUQ_UULuc",
        "outputId": "a662c6e0-3877-42ae-a757-61e0965cb633"
      },
      "execution_count": null,
      "outputs": [
        {
          "output_type": "display_data",
          "data": {
            "text/plain": [
              "<Figure size 432x288 with 1 Axes>"
            ],
            "image/png": "[encoded data removed]"
          },
          "metadata": {
            "needs_background": "light"
          }
        }
      ]
    },
    {
      "cell_type": "markdown",
      "source": [
        "**Defining The ML model**\n",
        "\n",
        "We will first construct the SoftMax mode. it is a single layer nural network"
      ],
      "metadata": {
        "id": "M0VV9u2pCY0s"
      }
    },
    {
      "cell_type": "code",
      "source": [
        "import jax.numpy as jnp # jax's numpy version with GPU support\n",
        "from jax import random # used to define a RNG key to control the random input in JAX\n",
        "from jax.experimental import stax # neural network library\n",
        "from jax.experimental.stax import Dense, Relu, LogSoftmax # neural network layers\n",
        "\n",
        "# set key for the RNG (see JAX docs)\n",
        "rng = random.PRNGKey(seed)\n",
        "\n",
        "# cast data into 1D image format suitable for fc layers: the shape should be (N_datapoints, 28*28)\n",
        "train_images = train_images.reshape(-1,28*28) # -1: number of data points, (28*28): (height*width) dimensions of image\n",
        "test_images = test_images.reshape(-1,28*28)\n",
        "\n",
        "# define functions which initialize the parameters and evaluate the model\n",
        "initialize_params, predict = stax.serial(\n",
        "                                            ### SoftMax Regression\n",
        "                                            Dense(10), # 10 output neurons\n",
        "                                            LogSoftmax # NB: computes the log-probability\n",
        "    \n",
        "#                                             ### fully connected DNN\n",
        "#                                             Dense(512), # 512 hidden neurons\n",
        "#                                             Relu,\n",
        "#                                             Dense(256), # 256 hidden neurons\n",
        "#                                             Relu,\n",
        "#                                             Dense(10), # 10 output neurons\n",
        "#                                             LogSoftmax # NB: computes the log-probability\n",
        "                                        )\n",
        "\n",
        "# initialize the model parameters\n",
        "output_shape, inital_params = initialize_params(rng, (-1, 28 * 28)) # fcc layer 28x28 pixes in each image\n",
        "\n",
        "print('\\noutput shape of the model is {}.\\n'.format(output_shape))\n",
        "\n",
        "# check how network works on 3 examples\n",
        "predictions = predict(inital_params, test_images[0:3])\n",
        "\n",
        "# print shape of output\n",
        "print(\"actual output shape is:\", predictions.shape)\n",
        "\n",
        "# check if probability is conserved\n",
        "print('log(softmax) values:', predictions[0])\n",
        "print('conservation of probability', np.sum(jnp.exp(predictions), axis=1))"
      ],
      "metadata": {
        "colab": {
          "base_uri": "https://localhost:8080/"
        },
        "id": "XyOd7KrzUeRY",
        "outputId": "24cd5f40-8cec-4982-be5d-80afb58488fb"
      },
      "execution_count": null,
      "outputs": [
        {
          "output_type": "stream",
          "name": "stderr",
          "text": [
            "WARNING:absl:No GPU/TPU found, falling back to CPU. (Set TF_CPP_MIN_LOG_LEVEL=0 and rerun for more info.)\n"
          ]
        },
        {
          "output_type": "stream",
          "name": "stdout",
          "text": [
            "\n",
            "output shape of the model is (-1, 10).\n",
            "\n",
            "actual output shape is: (3, 10)\n",
            "log(softmax) values: [-2.2292223 -2.4820764 -2.7947464 -2.1780825 -1.9830027 -2.2069645\n",
            " -1.9345262 -2.6357243 -2.0653868 -3.1278682]\n",
            "conservation of probability [1.        0.9999999 1.       ]\n"
          ]
        }
      ]
    },
    {
      "cell_type": "markdown",
      "source": [
        "**Defining Lost/Cost Functions**\n",
        "\n",
        "Lost and cost functions are defined to measure the performance of model. For this we are going to use jax.numpy instead of numpy for the obvios reasons that is optimizing the process to take less time."
      ],
      "metadata": {
        "id": "EMAI_L01DG1x"
      }
    },
    {
      "cell_type": "code",
      "source": [
        "### define loss and accuracy functions\n",
        "\n",
        "from jax import grad\n",
        "from jax.tree_util import tree_flatten # jax params are stored as nested tuples; use this to manipulate tuples\n",
        "\n",
        "\n",
        "def l2_regularizer(params, lmbda):\n",
        "    \"\"\"\n",
        "    Define l2 regularizer: $\\lambda \\ sum_j ||theta_j||^2 $ for every parameter in the model $\\theta_j$\n",
        "    \n",
        "    \"\"\"\n",
        "    return lmbda*jnp.sum(jnp.array([jnp.sum(jnp.abs(theta)**2) for theta in tree_flatten(params)[0] ]))\n",
        "\n",
        "\n",
        "def loss(params, batch):\n",
        "    \"\"\"\n",
        "    Define cost (or lost) function for softmax classification. \n",
        "    \n",
        "    \"\"\"\n",
        "    inputs, targets = batch\n",
        "    preds = predict(params, inputs)\n",
        "    return -jnp.mean(jnp.sum(preds * targets, axis=1)) + l2_regularizer(params, 0.001)\n",
        "\n",
        "\n",
        "def mean_accuracy(params, batch):\n",
        "    \"\"\"\n",
        "    Define accuracy function: the mean number of datapoints which have correct preductions. \n",
        "    This function is not used for training; only to test the performance. \n",
        "    \n",
        "    \"\"\"\n",
        "    inputs, targets = batch\n",
        "    target_class = jnp.argmax(targets, axis=1)\n",
        "    predicted_class = jnp.argmax(predict(params, inputs), axis=1)\n",
        "    return jnp.mean(predicted_class == target_class)"
      ],
      "metadata": {
        "id": "_WefELTjUr_b"
      },
      "execution_count": null,
      "outputs": []
    },
    {
      "cell_type": "markdown",
      "source": [
        "**Optimizer code**\n",
        "\n",
        "Now, I'll define Optimizer for that I've used [jax.experimental.optimizers](https://web.archive.org/web/20210506031538/https://jax.readthedocs.io/en/latest/jax.experimental.optimizers.html) This module contains some convenient optimizer definitions, specifically initialization and update functions, which can be used with ndarrays or arbitrarily-nested tuple/list/dicts of ndarrays.\n",
        "\n",
        "I'm adding a @jit decorator (Just-In-Time compiler) to the update function. This will make jax compile the update() function to give speedy results (even on the CPU!)."
      ],
      "metadata": {
        "id": "S6ss_LFJEzF-"
      }
    },
    {
      "cell_type": "code",
      "source": [
        "### define generalized gradient descent optimizer and a function to update model parameters\n",
        "\n",
        "from jax.experimental import optimizers # gradient descent optimizers\n",
        "from jax import jit\n",
        "\n",
        "step_size = 0.001 # step size or learning rate \n",
        "momentum_mass = 0.9 # \"gamma\" parameter in GD+momentum\n",
        "\n",
        "# compute optimizer functions\n",
        "opt_init, opt_update, get_params = optimizers.momentum(step_size, mass=momentum_mass)\n",
        "\n",
        "\n",
        "# define function which updates the parameters using the change computed by the optimizer\n",
        "@jit # Just In Time compilation speeds up the code; requires to use jnp everywhere; remove when debugging\n",
        "def update(i, opt_state, batch):\n",
        "    \"\"\"\n",
        "    i: int,\n",
        "        counter to count how many update steps we have performed\n",
        "    opt_state: object,\n",
        "        the state of the optimizer\n",
        "    batch: np.array\n",
        "        batch containing the data used to update the model\n",
        "        \n",
        "    Returns: \n",
        "    opt_state: object,\n",
        "        the new state of the optimizer\n",
        "        \n",
        "    \"\"\"\n",
        "    # get current parameters of the model\n",
        "    current_params = get_params(opt_state)\n",
        "    # compute gradients\n",
        "    grad_params = grad(loss)(current_params, batch)\n",
        "    # use the optimizer to perform the update using opt_update\n",
        "    return opt_update(i, grad_params, opt_state)"
      ],
      "metadata": {
        "id": "7LvYnx1iU2qf"
      },
      "execution_count": null,
      "outputs": []
    },
    {
      "cell_type": "markdown",
      "source": [
        "**Training Model**\n",
        "\n",
        "Now we can start with the training part. We train model in epochs. In each epoch, we loop over the number of minibatches to exhaust the training set. We update parameters for each batch. Therefore, we use a variable itercount to count the number of updates.\n",
        "Once we've done the update, we can read off the model parameters and check the current loss and model accuracy on the test set for the given epoch."
      ],
      "metadata": {
        "id": "v0duvvHcGfxF"
      }
    },
    {
      "cell_type": "code",
      "source": [
        "### Train model\n",
        "\n",
        "import time\n",
        "import itertools\n",
        "\n",
        "# define geenrator to count the number of updates\n",
        "itercount = itertools.count()\n",
        "\n",
        "# define number of training epochs\n",
        "num_epochs = 101\n",
        "\n",
        "# define figures of merit\n",
        "train_accuracy=np.zeros(num_epochs)\n",
        "test_accuracy=np.zeros_like(train_accuracy)\n",
        "\n",
        "print(\"\\nStarting training...\\n\")\n",
        "\n",
        "# set the initial model parameters in the optimizer\n",
        "opt_state = opt_init(inital_params)\n",
        "\n",
        "# loop over the number of training epochs\n",
        "for epoch in range(num_epochs): \n",
        "    \n",
        "    ### record time\n",
        "    start_time = time.time()\n",
        "    \n",
        "    ### train in minibatches until the entire dataset is exhausted: \n",
        "    # the entire dataset is divided into _random_ minibatches; \n",
        "    # all minibatches are shown to the model before going to next epoch\n",
        "    for _ in range(num_batches):\n",
        "        # use the data to update the model parameters\n",
        "        opt_state = update(next(itercount), opt_state, next(batches))\n",
        "        \n",
        "    ### record time needed for a single epoch\n",
        "    epoch_time = time.time() - start_time\n",
        "    \n",
        "    ### evaluate performance of the model at each fixed epoch\n",
        "    \n",
        "    # retrieve current model parameters\n",
        "    params = get_params(opt_state)\n",
        "    \n",
        "    # measure the accuracy on the training and test datasets\n",
        "    train_accuracy[epoch] = mean_accuracy(params, (train_images, train_labels))\n",
        "    test_accuracy[epoch] = mean_accuracy(params, (test_images, test_labels))\n",
        "    \n",
        "    # print results every 10 epochs\n",
        "    if epoch % 10 == 0:\n",
        "        print(\"Epoch {} in {:0.2f} sec\".format(epoch, epoch_time))\n",
        "        print(\"Training set accuracy {}\".format(train_accuracy[epoch]))\n",
        "        print(\"Test set accuracy {}\\n\".format(test_accuracy[epoch]))"
      ],
      "metadata": {
        "colab": {
          "base_uri": "https://localhost:8080/"
        },
        "id": "8Iv-5HkxU-WL",
        "outputId": "e306d40b-3771-41be-8ce6-3a7bf7274d51"
      },
      "execution_count": null,
      "outputs": [
        {
          "output_type": "stream",
          "name": "stdout",
          "text": [
            "\n",
            "Starting training...\n",
            "\n",
            "Epoch 0 in 0.61 sec\n",
            "Training set accuracy 0.8258500099182129\n",
            "Test set accuracy 0.8351999521255493\n",
            "\n",
            "Epoch 10 in 0.27 sec\n",
            "Training set accuracy 0.8929499983787537\n",
            "Test set accuracy 0.9002999663352966\n",
            "\n",
            "Epoch 20 in 0.26 sec\n",
            "Training set accuracy 0.9025333523750305\n",
            "Test set accuracy 0.9090999960899353\n",
            "\n",
            "Epoch 30 in 0.26 sec\n",
            "Training set accuracy 0.9068499803543091\n",
            "Test set accuracy 0.9120999574661255\n",
            "\n",
            "Epoch 40 in 0.27 sec\n",
            "Training set accuracy 0.9095333218574524\n",
            "Test set accuracy 0.9143999814987183\n",
            "\n",
            "Epoch 50 in 0.27 sec\n",
            "Training set accuracy 0.911466658115387\n",
            "Test set accuracy 0.9151999950408936\n",
            "\n",
            "Epoch 60 in 0.26 sec\n",
            "Training set accuracy 0.912933349609375\n",
            "Test set accuracy 0.9157999753952026\n",
            "\n",
            "Epoch 70 in 0.26 sec\n",
            "Training set accuracy 0.9145166873931885\n",
            "Test set accuracy 0.9160999655723572\n",
            "\n",
            "Epoch 80 in 0.26 sec\n",
            "Training set accuracy 0.914900004863739\n",
            "Test set accuracy 0.9158999919891357\n",
            "\n",
            "Epoch 90 in 0.26 sec\n",
            "Training set accuracy 0.9155666828155518\n",
            "Test set accuracy 0.916700005531311\n",
            "\n",
            "Epoch 100 in 0.26 sec\n",
            "Training set accuracy 0.9156666994094849\n",
            "Test set accuracy 0.9176999926567078\n",
            "\n"
          ]
        }
      ]
    },
    {
      "cell_type": "markdown",
      "source": [
        "Below we compare the training and test average accuracy curves."
      ],
      "metadata": {
        "id": "1bvmOrw_HXzu"
      }
    },
    {
      "cell_type": "code",
      "source": [
        "### plot and examine learning curves\n",
        "\n",
        "epochs=list(range(num_epochs))\n",
        "\n",
        "plt.plot(epochs, train_accuracy, '-b', label='training data' )\n",
        "plt.plot(epochs, test_accuracy, '-r', label='test data' )\n",
        "\n",
        "plt.xlabel('epoch')\n",
        "plt.ylabel('accuracy')\n",
        "\n",
        "plt.grid()\n",
        "plt.legend()\n",
        "plt.show()"
      ],
      "metadata": {
        "colab": {
          "base_uri": "https://localhost:8080/",
          "height": 279
        },
        "id": "biwUlVxEVFk3",
        "outputId": "af234209-4599-457b-dd36-4b881bc2dc9a"
      },
      "execution_count": null,
      "outputs": [
        {
          "output_type": "display_data",
          "data": {
            "text/plain": [
              "<Figure size 432x288 with 1 Axes>"
            ],
            "image/png": "[encoded data removed]"
          },
          "metadata": {
            "needs_background": "light"
          }
        }
      ]
    },
    {
      "cell_type": "markdown",
      "source": [
        "Now examining the trained weights:\n",
        "\n",
        "This is a first attempt to answer the question what the ML model learns and how it does the classification.\n"
      ],
      "metadata": {
        "id": "YZt0vdtOHmqM"
      }
    },
    {
      "cell_type": "code",
      "source": [
        "### plot weights vs the pixel position (works only for a single layer)\n",
        "### code works only SoftMax regression (!)\n",
        "\n",
        "from jax. tree_util import tree_flatten # jax params are stored as nested tuples; use this to manipulate tuples\n",
        "\n",
        "# extract weights and biases using tree_flatten\n",
        "params = get_params(opt_state)\n",
        "weights, biases  = tree_flatten(params)[0]\n",
        "\n",
        "# print the weights (biases are not so interesting)\n",
        "plt.figure(figsize=(15, 7)) # figure size \n",
        "\n",
        "scale = np.abs(weights).max() # define overall scale\n",
        "\n",
        "for i in range(10): # loop over the number of weights\n",
        "    \n",
        "    plot = plt.subplot(2, 5, i + 1)\n",
        "    plot.imshow(weights[:,i].reshape(28, 28), interpolation='nearest', cmap=plt.cm.Greys, vmin=-scale, vmax=scale)\n",
        "    plot.set_xticks(())\n",
        "    plot.set_yticks(())\n",
        "    plot.set_xlabel('Class %i' % i)\n",
        "    \n",
        "plt.suptitle('classification weights vector $w_j$ for digit class $j$')\n",
        "\n",
        "plt.show()"
      ],
      "metadata": {
        "colab": {
          "base_uri": "https://localhost:8080/",
          "height": 461
        },
        "id": "jE_rNa34VUvu",
        "outputId": "99f4483a-4998-4212-fb19-1f7a11fc38d1"
      },
      "execution_count": null,
      "outputs": [
        {
          "output_type": "display_data",
          "data": {
            "text/plain": [
              "<Figure size 1080x504 with 10 Axes>"
            ],
            "image/png": "[encoded data removed]"
          },
          "metadata": {}
        }
      ]
    },
    {
      "cell_type": "markdown",
      "source": [
        ""
      ],
      "metadata": {
        "id": "XNM3qbJBHxlK"
      }
    },
    {
      "cell_type": "markdown",
      "source": [
        "**CNN Model**\n",
        "\n",
        "Convolutional layers know about the dimensionality of the input. In our case, the data is two-domensional, and thus needs to be reshaped accordingly."
      ],
      "metadata": {
        "id": "lnwTbsWdH5WO"
      }
    },
    {
      "cell_type": "code",
      "source": [
        "### Convolutional Neural network\n",
        "\n",
        "from jax.experimental.stax import GeneralConv, Flatten # neural network layers\n",
        "\n",
        "\n",
        "# cast data into 2D image format\n",
        "train_images = train_images.reshape(-1,1,28,28) # -1: number of data points, 1: input channels, (28,28) = (height, width) dimensions of image\n",
        "test_images = test_images.reshape(-1,1,28,28)\n",
        "\n",
        "# conv net convention\n",
        "dim_nums=('NCHW', 'OIHW', 'NCHW') # default for (input, filters, output)\n",
        "\n",
        "# define functions which initialize the parameters and evaluate the model\n",
        "initialize_params, predict = stax.serial(    \n",
        "                                            ### convolutional NN (CNN)\n",
        "                                            GeneralConv(dim_nums, 16, (4,4), strides=(4,4) ), # 16 output channels, (4,4) filter\n",
        "                                            Relu,\n",
        "                                            GeneralConv(dim_nums, 32, (3,3), strides=(1,1) ), # 32 output channels, (3,3) filter\n",
        "                                            Relu,\n",
        "                                            Flatten, # flatten output\n",
        "                                            Dense(256), # 256 hidden neurons\n",
        "                                            Relu,\n",
        "                                            Dense(10), # 10 output neurons\n",
        "                                            LogSoftmax # NB: computes the log-probability\n",
        "                                        )\n",
        "\n",
        "# initialize the model parameters\n",
        "output_shape, inital_params = initialize_params(rng, (-1, 1, 28, 28)) # conv layer, 1 input channel, 28x28 pixes in each image\n",
        "\n",
        "print('\\noutput shape of the model is {}.\\n'.format(output_shape))\n",
        "\n",
        "# check how network works on 3 examples\n",
        "predictions = predict(inital_params, test_images[0:3])\n",
        "\n",
        "# print shape of output\n",
        "print(\"actual output shape is:\", predictions.shape)\n",
        "\n",
        "# check if probability is conserved\n",
        "print('log(softmax) values:', predictions[0])\n",
        "print('conservation of probability', np.sum(jnp.exp(predictions), axis=1))"
      ],
      "metadata": {
        "id": "vLIVJxPPVZs4",
        "colab": {
          "base_uri": "https://localhost:8080/"
        },
        "outputId": "1e1deb46-8b7d-4d55-9347-8e2daf554178"
      },
      "execution_count": null,
      "outputs": [
        {
          "output_type": "stream",
          "name": "stdout",
          "text": [
            "\n",
            "output shape of the model is (-1, 10).\n",
            "\n",
            "actual output shape is: (3, 10)\n",
            "log(softmax) values: [-2.264744  -2.4081535 -2.2366064 -2.302778  -2.4543524 -2.3551545\n",
            " -2.2510574 -2.1797054 -2.268157  -2.3361628]\n",
            "conservation of probability [1.0000001 1.0000001 1.0000001]\n"
          ]
        }
      ]
    },
    {
      "cell_type": "code",
      "source": [
        ""
      ],
      "metadata": {
        "id": "pR1ahbxQluPA"
      },
      "execution_count": null,
      "outputs": []
    }
  ]
}